{
 "cells": [
  {
   "cell_type": "code",
   "execution_count": 5,
   "metadata": {},
   "outputs": [
    {
     "name": "stdout",
     "output_type": "stream",
     "text": [
      "* * * * * \n",
      "* * * * * \n",
      "* * * * * \n",
      "* * * * * \n"
     ]
    }
   ],
   "source": [
    "# 打印一个矩形\n",
    "# 这个循环控制行\n",
    "for i in range(1,5):\n",
    "    # 控制列\n",
    "    for j  in range(1,6):\n",
    "        print(\"*\", end =\" \")\n",
    "    print()"
   ]
  },
  {
   "cell_type": "code",
   "execution_count": 8,
   "metadata": {},
   "outputs": [
    {
     "name": "stdout",
     "output_type": "stream",
     "text": [
      "请输入行数：5\n",
      "请输入列数：3\n",
      "* * * \n",
      "* * * \n",
      "* * * \n",
      "* * * \n",
      "* * * \n"
     ]
    }
   ],
   "source": [
    "# 打印一个矩形\n",
    "row = input(\"请输入行数：\")\n",
    "lie = input(\"请输入列数：\")\n",
    "# 这个循环控制行\n",
    "for i in range(int(row)):\n",
    "    for j in range(int(lie)):\n",
    "        print(\"*\",end = ' ')\n",
    "    print()"
   ]
  },
  {
   "cell_type": "code",
   "execution_count": 17,
   "metadata": {},
   "outputs": [
    {
     "name": "stdout",
     "output_type": "stream",
     "text": [
      "* * * * * \n",
      "* * * * * \n",
      "* * * * * \n",
      "* * * * * \n",
      "====================\n",
      "* * * * * \n",
      "*       * \n",
      "*       * \n",
      "* * * * * \n"
     ]
    }
   ],
   "source": [
    "# 打印一个矩形\n",
    "# 控制行\n",
    "for i in range(1,5):\n",
    "    for j in range(1,6):\n",
    "        print(\"*\",end = ' ')\n",
    "    # 当第i行的5列输出完后进行换行\n",
    "    print()\n",
    "# 分割一下输出，用的是字符串乘法\n",
    "print('=' * 20)\n",
    "\n",
    "# 打印空心矩形\n",
    "for i in range(1,5):\n",
    "    for j in range(1,6):\n",
    "        if i ==1 or i == 4 or j == 1 or j == 5:\n",
    "            print(\"*\",end=\" \")\n",
    "        else:\n",
    "            print(' ',end = \" \")\n",
    "    print()"
   ]
  },
  {
   "cell_type": "code",
   "execution_count": 23,
   "metadata": {},
   "outputs": [
    {
     "name": "stdout",
     "output_type": "stream",
     "text": [
      "* \n",
      "* * \n",
      "* * * \n",
      "* * * * \n",
      "* * * * * \n",
      "====================\n",
      "* \n",
      "* * \n",
      "*   * \n",
      "*     * \n",
      "* * * * * \n"
     ]
    }
   ],
   "source": [
    "# 打印直角三角形\n",
    "# 控制行\n",
    "for i in range(1,6):\n",
    "    # 控制列，规则是第一行一列，第二行是两列\n",
    "    for j in range(6-i, 6):\n",
    "        print(\"*\", end = ' ')\n",
    "    print()\n",
    "    \n",
    "print('=' * 20)\n",
    "\n",
    "# 打印空心三角形\n",
    "for i in range(1,6):\n",
    "    for j in range(6-i, 6):\n",
    "        if i==1 or i==5 or j==6-i or j==5:\n",
    "            print('*', end = \" \")\n",
    "        else:\n",
    "            print(' ', end =\" \")\n",
    "    print()"
   ]
  },
  {
   "cell_type": "code",
   "execution_count": 25,
   "metadata": {},
   "outputs": [
    {
     "name": "stdout",
     "output_type": "stream",
     "text": [
      "* * * * * \n",
      "* * * * \n",
      "* * * \n",
      "* * \n",
      "* \n",
      "====================\n",
      "* * * * * \n",
      "*     * \n",
      "*   * \n",
      "* * \n",
      "* \n"
     ]
    }
   ],
   "source": [
    "# 控制行\n",
    "for i in range(1,6):\n",
    "    # 控制列，规则是第一行五列，第二行是四列 i = 1, j的范围6，i=2,j5\n",
    "    for j in range(1,7-i):\n",
    "        print(\"*\", end = ' ')\n",
    "    print()\n",
    "    \n",
    "print('=' * 20)\n",
    "\n",
    "for i in range(1,6):\n",
    "    # 控制列，规则是第一行五列，第二行是四列 i = 1, j的范围6，i=2,j5\n",
    "    for j in range(1,7-i):\n",
    "        if i == 1 or i == 5 or j == 1 or j == 7-i-1:\n",
    "            print(\"*\", end = ' ')\n",
    "        else:\n",
    "            print(\" \", end = ' ')\n",
    "    print()"
   ]
  },
  {
   "cell_type": "code",
   "execution_count": 9,
   "metadata": {},
   "outputs": [
    {
     "name": "stdout",
     "output_type": "stream",
     "text": [
      "    * \n",
      "   * * \n",
      "  * * * \n",
      " * * * * \n",
      "* * * * * \n",
      "====================\n",
      "    * \n",
      "   * * \n",
      "  *   * \n",
      " *     * \n",
      "* * * * * \n"
     ]
    }
   ],
   "source": [
    "# 控制行\n",
    "for i in range(1,6):\n",
    "    # 更改打印起始位置\n",
    "    for k in range(1, 6-i):\n",
    "        print(end = \" \")\n",
    "    # 控制列，规则是第一行一列，第二行是两列\n",
    "    for j in range(6-i, 6):\n",
    "        print(\"*\", end = ' ')\n",
    "    print()\n",
    "    \n",
    "print('=' * 20)\n",
    "\n",
    "#空心\n",
    "# 控制行\n",
    "for i in range(1,6):\n",
    "    # 更改打印起始位置\n",
    "    for k in range(1, 6-i):\n",
    "        print(end = \" \")\n",
    "    # 控制列，规则是第一行一列，第二行是两列\n",
    "    for j in range(6-i, 6):\n",
    "        if i == 1 or i == 5 or j == 6-i or j == 5:\n",
    "            print(\"*\", end = ' ')\n",
    "        else:\n",
    "            print(' ', end = \" \")\n",
    "    print()\n",
    "    "
   ]
  },
  {
   "cell_type": "code",
   "execution_count": 7,
   "metadata": {},
   "outputs": [
    {
     "name": "stdout",
     "output_type": "stream",
     "text": [
      "    * \n",
      "   * * \n",
      "  * * * \n",
      " *     * \n",
      "*       * \n"
     ]
    }
   ],
   "source": [
    "# 打印字母A\n",
    "# 控制行\n",
    "for i in range(1,6):\n",
    "    #更改打印起始位置\n",
    "    for k in range(1, 6-i):\n",
    "        print(end = \" \")\n",
    "    # 控制列，规则是第一行一列，第二行是两列\n",
    "    for j in range(6-i, 6):\n",
    "        if i == 1 or i == 3 or j == 6-i or j == 5:\n",
    "            print(\"*\", end = \" \")\n",
    "        else: \n",
    "            print(' ', end = \" \")\n",
    "    print()"
   ]
  },
  {
   "cell_type": "code",
   "execution_count": 20,
   "metadata": {},
   "outputs": [
    {
     "name": "stdout",
     "output_type": "stream",
     "text": [
      "     * \n",
      "    * * \n",
      "   * * * \n",
      "  * * * * \n",
      " * * * * * \n",
      "  * * * * \n",
      "   * * * \n",
      "    * * \n",
      "     * \n",
      "=========================\n"
     ]
    }
   ],
   "source": [
    "# 打印菱形\n",
    "# 控制行\n",
    "for i in range(1,5):\n",
    "    # 更改打印开始位置\n",
    "    for k in range(1, 7-i):\n",
    "        print(end = \" \")\n",
    "    # 控制列, 规则是第一行一列, 第二行两列\n",
    "    for j in range(6-i, 6):\n",
    "        print(\"*\" ,end = \" \")\n",
    "    print()\n",
    "\n",
    "for i in range(1, 6):\n",
    "    # 更改打印起始位置\n",
    "    for k in range(i):\n",
    "        print(end = \" \")\n",
    "    # 控制列,规则是第一行五列, 第二行四列\n",
    "    for j in range(i, 6):\n",
    "        print(\"*\", end = \" \")\n",
    "    print()\n",
    "print(\"=\" * 25)"
   ]
  },
  {
   "cell_type": "code",
   "execution_count": 13,
   "metadata": {},
   "outputs": [
    {
     "name": "stdout",
     "output_type": "stream",
     "text": [
      "     * \n",
      "    * * \n",
      "   *   * \n",
      "  *     * \n",
      " *       * \n",
      "  *     * \n",
      "   *   * \n",
      "    * * \n",
      "     * \n"
     ]
    }
   ],
   "source": [
    "# 打印空心菱形\n",
    "# 控制行\n",
    "for i in range(1, 5):\n",
    "    for k in range(1, 7-i):\n",
    "        print(end = \" \")\n",
    "    # 控制列, 第一行一列, 第二行两列\n",
    "    for j in range(6-i, 6):\n",
    "        if i == 1 or j == 6-i or j == 5:\n",
    "            print(\"*\", end = \" \")\n",
    "        else:\n",
    "            print(\" \", end = \" \")\n",
    "    print()\n",
    "    \n",
    "for i in range(1, 6):\n",
    "    for k in range(i):\n",
    "         print(end = \" \")\n",
    "    for j in range(i, 6):\n",
    "        if i == 5 or j == i or j == 5:\n",
    "            print(\"*\", end = \" \")\n",
    "        else: \n",
    "            print(\" \", end = \" \")\n",
    "    print()"
   ]
  },
  {
   "cell_type": "code",
   "execution_count": 27,
   "metadata": {},
   "outputs": [
    {
     "name": "stdout",
     "output_type": "stream",
     "text": [
      "     * * * * \n",
      "    * * * * * \n",
      "   * * * * * * \n",
      "  * * * * * * * \n",
      " * * * * * * * * \n",
      "====================\n",
      "     * * * * \n",
      "    *       * \n",
      "   *         * \n",
      "  *           * \n",
      " * * * * * * * * \n"
     ]
    }
   ],
   "source": [
    "# 打印一个梯形\n",
    "for i in range(5):\n",
    "    for j in range(0, 5-i): \n",
    "    #for j in range(5-i, 5):\n",
    "        print(end = \" \")\n",
    "        \n",
    "    for k in range(5-i, 9):\n",
    "        print(\"*\", end = \" \")\n",
    "        \n",
    "    print(\"\")\n",
    "    \n",
    "print('=' * 20)\n",
    "    \n",
    "\n",
    "    \n",
    "for i in range(5):\n",
    "    for j in range(0, 5-i):\n",
    "        print(end = \" \")\n",
    "        \n",
    "    for k in range(5-i, 9):\n",
    "        if i ==0 or i == 4 or k == 5-i or k == 8:\n",
    "            print(\"*\", end = \" \")\n",
    "        else:\n",
    "            print(\" \", end = \" \")\n",
    "        \n",
    "    print(\"\")\n"
   ]
  },
  {
   "cell_type": "code",
   "execution_count": 4,
   "metadata": {},
   "outputs": [
    {
     "name": "stdout",
     "output_type": "stream",
     "text": [
      "* * * * * \n",
      "* * * * * \n",
      "* * * * * \n",
      "* * * * * \n"
     ]
    }
   ],
   "source": [
    "# 实心矩形\n",
    "def s_jx():\n",
    "# 控制行\n",
    "    for i in range(1, 5):\n",
    "        # 控制列\n",
    "        for j in range(1, 6):\n",
    "            print(\"*\", end = \" \")\n",
    "        # 当第i行的5列输出完后进行换行\n",
    "        print()\n",
    "        \n",
    "s_jx()"
   ]
  },
  {
   "cell_type": "code",
   "execution_count": 5,
   "metadata": {},
   "outputs": [
    {
     "name": "stdout",
     "output_type": "stream",
     "text": [
      "* * * * * \n",
      "*       * \n",
      "*       * \n",
      "* * * * * \n"
     ]
    }
   ],
   "source": [
    "# 空心矩形\n",
    "def k_jx():\n",
    "    for i in range(1,5):\n",
    "        for j in range(1,6):\n",
    "            if i ==1 or i == 4 or j == 1 or j == 5:\n",
    "                print(\"*\",end=\" \")\n",
    "            else:\n",
    "                print(\" \",end = \" \")\n",
    "    \n",
    "        print()\n",
    "    \n",
    "k_jx()"
   ]
  },
  {
   "cell_type": "code",
   "execution_count": 6,
   "metadata": {},
   "outputs": [
    {
     "name": "stdout",
     "output_type": "stream",
     "text": [
      "* \n",
      "* * \n",
      "* * * \n",
      "* * * * \n",
      "* * * * * \n"
     ]
    }
   ],
   "source": [
    "# 正实心等腰直角三角形\n",
    "def s_sjx():\n",
    "    # 控制行\n",
    "    for i in range(1, 6):\n",
    "        # 控制列, 规则是第一行一列, 第二行两列\n",
    "        for j in range(6-i, 6):\n",
    "            print(\"*\", end = \" \")\n",
    "        print()\n",
    "    \n",
    "s_sjx()"
   ]
  },
  {
   "cell_type": "code",
   "execution_count": 7,
   "metadata": {},
   "outputs": [
    {
     "name": "stdout",
     "output_type": "stream",
     "text": [
      "* \n",
      "* * \n",
      "*   * \n",
      "*     * \n",
      "* * * * * \n"
     ]
    }
   ],
   "source": [
    "# 正空心等腰直角三角形\n",
    "def k_sjx():\n",
    "    for i in range(1, 6):\n",
    "        for j in range(6-i, 6):\n",
    "            if i == 1 or i == 5 or j == 6-i or j == 5:\n",
    "                print(\"*\", end = \" \")\n",
    "            else:\n",
    "                print(\" \", end =\" \")\n",
    "        print()\n",
    "        \n",
    "k_sjx()"
   ]
  },
  {
   "cell_type": "code",
   "execution_count": 10,
   "metadata": {},
   "outputs": [
    {
     "name": "stdout",
     "output_type": "stream",
     "text": [
      "请输入实心矩形, 实心三角形, 空心矩形, 空心三角形空心三角形\n",
      "* \n",
      "* * \n",
      "*   * \n",
      "*     * \n",
      "* * * * * \n"
     ]
    }
   ],
   "source": [
    "shape = input(\"请输入实心矩形, 实心三角形, 空心矩形, 空心三角形\")\n",
    "if shape == \"实心矩形\":\n",
    "    s_jx()\n",
    "elif shape == \"实心三角形\":\n",
    "    s_sjx()\n",
    "elif shape == \"空心矩形\":\n",
    "    k_jx()\n",
    "elif shape == \"空心三角形\":\n",
    "    k_sjx()\n",
    "else:\n",
    "    print(\"你是不是傻! 看不懂还是咋地\")"
   ]
  },
  {
   "cell_type": "code",
   "execution_count": 19,
   "metadata": {},
   "outputs": [
    {
     "name": "stdout",
     "output_type": "stream",
     "text": [
      "* * \n",
      "*   * \n",
      "*   * \n",
      "* * \n"
     ]
    }
   ],
   "source": [
    "# 打印字母D\n",
    "for m in range(1, 5):\n",
    "    # 控制列\n",
    "    for n in range(1, 4):\n",
    "        if n == 1:\n",
    "            print(\"*\", end = \" \")\n",
    "        elif m ==1 or m == 4:\n",
    "            if n > 2:\n",
    "                break\n",
    "            else:\n",
    "                print(\"*\", end = \" \")\n",
    "        elif n > 2:\n",
    "            if m == 2 or m == 3:\n",
    "                print(\"*\", end = \" \")\n",
    "        else:\n",
    "            print(\" \", end = \" \")\n",
    "            \n",
    "    print(\"\")"
   ]
  },
  {
   "cell_type": "code",
   "execution_count": 23,
   "metadata": {},
   "outputs": [
    {
     "name": "stdout",
     "output_type": "stream",
     "text": [
      "* * \n",
      "*   * \n",
      "*   * \n",
      "* * \n",
      "* * \n",
      "*   * \n",
      "*   * \n",
      "* * \n"
     ]
    }
   ],
   "source": [
    "# 打印字母B\n",
    "for m in range(1, 5):\n",
    "    # 控制列\n",
    "    for n in range(1, 4):\n",
    "        if n == 1:\n",
    "            print(\"*\", end = \" \")\n",
    "        elif m ==1 or m == 4:\n",
    "            if n > 2:\n",
    "                break\n",
    "            else:\n",
    "                print(\"*\", end = \" \")\n",
    "        elif n > 2:\n",
    "            if m == 2 or m == 3:\n",
    "                print(\"*\", end = \" \")\n",
    "        else:\n",
    "            print(\" \", end = \" \")\n",
    "            \n",
    "    print(\"\")\n",
    "for m in range(1, 5):\n",
    "    # 控制列\n",
    "    for n in range(1, 4):\n",
    "        if n == 1:\n",
    "            print(\"*\", end = \" \")\n",
    "        elif m ==1 or m == 4:\n",
    "            if n > 2:\n",
    "                break\n",
    "            else:\n",
    "                print(\"*\", end = \" \")\n",
    "        elif n > 2:\n",
    "            if m == 2 or m == 3:\n",
    "                print(\"*\", end = \" \")\n",
    "        else:\n",
    "            print(\" \", end = \" \")\n",
    "            \n",
    "    print(\"\")"
   ]
  },
  {
   "cell_type": "code",
   "execution_count": 25,
   "metadata": {},
   "outputs": [
    {
     "name": "stdout",
     "output_type": "stream",
     "text": [
      "* * \n",
      "*   * \n",
      "*   * \n",
      "* * \n",
      "*   \n",
      "*   \n"
     ]
    }
   ],
   "source": [
    "# 打印字母P\n",
    "# 控制行 \n",
    "for m in range(1, 7):\n",
    "    # 控制列\n",
    "    for n in range(1, 4):\n",
    "        if n == 1:\n",
    "            print(\"*\", end = \" \")\n",
    "        elif m ==1 or m == 4:\n",
    "            if n > 2:\n",
    "                break\n",
    "            else:\n",
    "                print(\"*\", end = \" \")\n",
    "        elif n > 2:\n",
    "            if m == 2 or m == 3:\n",
    "                print(\"*\", end = \" \")\n",
    "        else:\n",
    "            print(\" \", end = \" \")\n",
    "            \n",
    "    print(\"\")"
   ]
  },
  {
   "cell_type": "code",
   "execution_count": 28,
   "metadata": {},
   "outputs": [
    {
     "name": "stdout",
     "output_type": "stream",
     "text": [
      "* * \n",
      "*   * \n",
      "*   * \n",
      "* * \n",
      "*   * \n"
     ]
    }
   ],
   "source": [
    "# 打印字母R\n",
    "# 控制行 \n",
    "for m in range(1, 6):\n",
    "    # 控制列\n",
    "    for n in range(1, 4):\n",
    "        if n == 1:\n",
    "            print(\"*\", end = \" \")\n",
    "        elif m ==1 or m == 4:\n",
    "            if n > 2:\n",
    "                break\n",
    "            else:\n",
    "                print(\"*\", end = \" \")\n",
    "        elif n > 2:\n",
    "            if m == 2 or m == 3 or m == 5:\n",
    "                print(\"*\", end = \" \")\n",
    "        else:\n",
    "            print(\" \", end = \" \")\n",
    "            \n",
    "    print(\"\")"
   ]
  },
  {
   "cell_type": "code",
   "execution_count": null,
   "metadata": {
    "collapsed": true
   },
   "outputs": [],
   "source": []
  }
 ],
 "metadata": {
  "kernelspec": {
   "display_name": "Python 3",
   "language": "python",
   "name": "python3"
  },
  "language_info": {
   "codemirror_mode": {
    "name": "ipython",
    "version": 3
   },
   "file_extension": ".py",
   "mimetype": "text/x-python",
   "name": "python",
   "nbconvert_exporter": "python",
   "pygments_lexer": "ipython3",
   "version": "3.6.3"
  }
 },
 "nbformat": 4,
 "nbformat_minor": 2
}
