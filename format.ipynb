{
 "cells": [
  {
   "cell_type": "code",
   "execution_count": 4,
   "metadata": {},
   "outputs": [
    {
     "name": "stdout",
     "output_type": "stream",
     "text": [
      "我的身高是175cm, 体重是60kg\n"
     ]
    }
   ],
   "source": [
    "# format 格式化字符串\n",
    "# 1. 位置参数\n",
    "# 非关键字参数\n",
    "str1 = \"我的身高是{0}, 体重是{1}\"\n",
    "res = str1.format('175cm','60kg')\n",
    "print(res)"
   ]
  },
  {
   "cell_type": "code",
   "execution_count": 6,
   "metadata": {},
   "outputs": [
    {
     "name": "stdout",
     "output_type": "stream",
     "text": [
      "我的身高是175cm, 体重是60kg，175cm是今天测得\n"
     ]
    }
   ],
   "source": [
    "# 多次利用函数\n",
    "str1 = \"我的身高是{0}, 体重是{1}，{0}是今天测得\"\n",
    "res = str1.format('175cm','60kg')\n",
    "print(res)"
   ]
  },
  {
   "cell_type": "code",
   "execution_count": 7,
   "metadata": {},
   "outputs": [
    {
     "name": "stdout",
     "output_type": "stream",
     "text": [
      "我的身高是175cm, 体重是60kg\n"
     ]
    }
   ],
   "source": [
    "# 关键字参数\n",
    "str1 = \"我的身高是{height}, 体重是{weight}\"\n",
    "res = str1.format(height = '175cm', weight = '60kg')\n",
    "print(res)"
   ]
  },
  {
   "cell_type": "code",
   "execution_count": 10,
   "metadata": {},
   "outputs": [
    {
     "name": "stdout",
     "output_type": "stream",
     "text": [
      "我的身高是175cm, 体重是60kg\n"
     ]
    }
   ],
   "source": [
    "# 2. 通过下标\n",
    "str1 = \"我的身高是{0[0]}, 体重是{0[1]}\"\n",
    "# format函数里面传入的是可迭代对象，例如列表，元组，字典\n",
    "res = str1.format(('175cm', '60kg'))\n",
    "print(res)"
   ]
  },
  {
   "cell_type": "code",
   "execution_count": 13,
   "metadata": {},
   "outputs": [
    {
     "name": "stdout",
     "output_type": "stream",
     "text": [
      "我的身高是175cm, 体重是60kg\n"
     ]
    }
   ],
   "source": [
    "str1 = \"我的身高是{0[h]}, 体重是{0[w]}\"\n",
    "# format函数里传入字典\n",
    "dict1 = {'h': '175cm', 'w':'60kg'}\n",
    "res = str1.format(dict1)\n",
    "# 等价于 res = str1.format('h': '175cm', 'w':'60kg') \n",
    "print(res)"
   ]
  },
  {
   "cell_type": "code",
   "execution_count": 16,
   "metadata": {},
   "outputs": [
    {
     "name": "stdout",
     "output_type": "stream",
     "text": [
      "我知道π的值是3.14\n"
     ]
    }
   ],
   "source": [
    "# 3. 格式限定符\n",
    "\n",
    "# 限制小数点后多少位\n",
    "res = \"我知道π的值是{:.2f}\".format(3.1415926)\n",
    "print(res)"
   ]
  },
  {
   "cell_type": "code",
   "execution_count": 21,
   "metadata": {},
   "outputs": [
    {
     "name": "stdout",
     "output_type": "stream",
     "text": [
      "10的二进制是1010\n",
      "10的八进制是12\n",
      "10的十六进制是a\n",
      "10的十进制是10\n"
     ]
    }
   ],
   "source": [
    "# 进制输入\n",
    "res = '10的二进制是{:b}'.format(10)\n",
    "print(res)\n",
    "\n",
    "res = '10的八进制是{:o}'.format(10)\n",
    "print(res)\n",
    "\n",
    "res = '10的十六进制是{:x}'.format(10)\n",
    "print(res)\n",
    "\n",
    "res = '10的十进制是{:d}'.format(10)\n",
    "print(res)"
   ]
  },
  {
   "cell_type": "code",
   "execution_count": 23,
   "metadata": {},
   "outputs": [
    {
     "name": "stdout",
     "output_type": "stream",
     "text": [
      "1000000000000\n",
      "我值90,000,000,000,000多钱\n"
     ]
    }
   ],
   "source": [
    "print(1000000000000)\n",
    "res = '我值{:,}多钱'.format(90000000000000)\n",
    "print(res)"
   ]
  },
  {
   "cell_type": "code",
   "execution_count": 25,
   "metadata": {},
   "outputs": [
    {
     "name": "stdout",
     "output_type": "stream",
     "text": [
      "haha     123\n",
      "haha*****123\n"
     ]
    }
   ],
   "source": [
    "# 填充对齐    <左对齐    >右对齐    ^居中\n",
    "res = \"haha{:>8}\".format(123)\n",
    "print(res)\n",
    "\n",
    "res = \"haha{:*>8}\".format(123)\n",
    "print(res)"
   ]
  },
  {
   "cell_type": "code",
   "execution_count": 32,
   "metadata": {},
   "outputs": [
    {
     "name": "stdout",
     "output_type": "stream",
     "text": [
      "* * * * * * * * \n",
      "\n",
      "* * * * * * * * \n",
      "\n",
      "* * * * * * * * \n",
      "\n",
      "* * * * * * * * \n",
      "\n",
      "* * * * * * * * \n",
      "\n"
     ]
    }
   ],
   "source": [
    "# 打印一个矩形\n",
    "\n",
    "# 这个循环控制行\n",
    "for i in range(5):\n",
    "    # 这个循环控制列\n",
    "    for j in range(0,8):\n",
    "        print('*', end = \" \")\n",
    "    print('\\n')"
   ]
  },
  {
   "cell_type": "code",
   "execution_count": 34,
   "metadata": {},
   "outputs": [
    {
     "name": "stdout",
     "output_type": "stream",
     "text": [
      "* * * * * * * * \n",
      "* * * * * * * * \n",
      "* * * * * * * * \n",
      "* * * * * * * * \n",
      "* * * * * * * * \n"
     ]
    }
   ],
   "source": [
    "# 打印一个矩形\n",
    "\n",
    "# 这个循环控制行\n",
    "for i in range(5):\n",
    "    # 这个循环控制列\n",
    "    for j in range(0,8):\n",
    "        print('*', end = \" \")\n",
    "    print()"
   ]
  },
  {
   "cell_type": "code",
   "execution_count": 38,
   "metadata": {},
   "outputs": [
    {
     "name": "stdout",
     "output_type": "stream",
     "text": [
      "请输入行数:4\n",
      "请输入列数:8\n",
      "* * * * * * * * \n",
      "* * * * * * * * \n",
      "* * * * * * * * \n",
      "* * * * * * * * \n"
     ]
    }
   ],
   "source": [
    "# 打印一个矩形\n",
    "row = input(\"请输入行数:\")\n",
    "lie = input(\"请输入列数:\")\n",
    "# 这个循环控制行\n",
    "for i in range(int(row)):\n",
    "    # 这个循环控制列\n",
    "    for j in range(int(lie)):\n",
    "        print('*', end = \" \")\n",
    "    print()"
   ]
  },
  {
   "cell_type": "code",
   "execution_count": 41,
   "metadata": {},
   "outputs": [
    {
     "name": "stdout",
     "output_type": "stream",
     "text": [
      "* * * * * \n",
      "* * * * \n",
      "* * * \n",
      "* * \n",
      "* \n"
     ]
    }
   ],
   "source": [
    "# 打印一个直角三角形\n",
    "# 控制行\n",
    "for m in range(5):\n",
    "    # 控制列\n",
    "    for n in range(5-m):\n",
    "        print(\"*\", end = \" \")\n",
    "    print()"
   ]
  },
  {
   "cell_type": "code",
   "execution_count": 58,
   "metadata": {
    "scrolled": true
   },
   "outputs": [
    {
     "name": "stdout",
     "output_type": "stream",
     "text": [
      "* \n",
      "* * \n",
      "* * * \n",
      "* * * * \n",
      "* * * * * \n"
     ]
    }
   ],
   "source": [
    "# 打印一个直角三角形\n",
    "# 控制行\n",
    "for m in range(5):\n",
    "    # 控制列\n",
    "    for n in range(5-m, 6):\n",
    "        print(\"*\", end = \" \")\n",
    "    print()"
   ]
  },
  {
   "cell_type": "code",
   "execution_count": 59,
   "metadata": {},
   "outputs": [
    {
     "name": "stdout",
     "output_type": "stream",
     "text": [
      "请输入行数：6\n",
      "\n",
      "* \n",
      "* * \n",
      "* * * \n",
      "* * * * \n",
      "* * * * * \n"
     ]
    }
   ],
   "source": [
    "# 打印一个直角三角形\n",
    "row = input(\"请输入行数：\")\n",
    "# 控制行\n",
    "for m in range(int(row)):\n",
    "    # 控制列\n",
    "    for n in range(int(row)-m, int(row)):\n",
    "        print(\"*\", end = \" \")\n",
    "    print()"
   ]
  },
  {
   "cell_type": "code",
   "execution_count": 71,
   "metadata": {},
   "outputs": [
    {
     "name": "stdout",
     "output_type": "stream",
     "text": [
      "1×1 = 1  \n",
      "2×1 = 2  2×2 = 4  \n",
      "3×1 = 3  3×2 = 6  3×3 = 9  \n",
      "4×1 = 4  4×2 = 8  4×3 = 12 4×4 = 16 \n",
      "5×1 = 5  5×2 = 10 5×3 = 15 5×4 = 20 5×5 = 25 \n",
      "6×1 = 6  6×2 = 12 6×3 = 18 6×4 = 24 6×5 = 30 6×6 = 36 \n",
      "7×1 = 7  7×2 = 14 7×3 = 21 7×4 = 28 7×5 = 35 7×6 = 42 7×7 = 49 \n",
      "8×1 = 8  8×2 = 16 8×3 = 24 8×4 = 32 8×5 = 40 8×6 = 48 8×7 = 56 8×8 = 64 \n",
      "9×1 = 9  9×2 = 18 9×3 = 27 9×4 = 36 9×5 = 45 9×6 = 54 9×7 = 63 9×8 = 72 9×9 = 81 \n"
     ]
    }
   ],
   "source": [
    "# 根据直角三角形可以改装九九乘法表\n",
    "for m in range(1, 10):\n",
    "    # 控制列\n",
    "    # for n in range(10-m, 10)\n",
    "    for n in range(1, m+1):\n",
    "        print(\"%d×%d = %-2d\"%(m,n,m*n), end = \" \")\n",
    "    print(\"\")"
   ]
  }
 ],
 "metadata": {
  "kernelspec": {
   "display_name": "Python 3",
   "language": "python",
   "name": "python3"
  },
  "language_info": {
   "codemirror_mode": {
    "name": "ipython",
    "version": 3
   },
   "file_extension": ".py",
   "mimetype": "text/x-python",
   "name": "python",
   "nbconvert_exporter": "python",
   "pygments_lexer": "ipython3",
   "version": "3.6.3"
  }
 },
 "nbformat": 4,
 "nbformat_minor": 2
}
